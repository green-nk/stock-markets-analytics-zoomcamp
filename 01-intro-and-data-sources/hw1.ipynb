{
 "cells": [
  {
   "cell_type": "markdown",
   "metadata": {},
   "source": [
    "## Module 1 Homework"
   ]
  },
  {
   "cell_type": "code",
   "execution_count": 54,
   "metadata": {},
   "outputs": [],
   "source": [
    "import pandas_datareader as pdr\n",
    "from datetime import date\n",
    "import yfinance as yf"
   ]
  },
  {
   "cell_type": "markdown",
   "metadata": {},
   "source": [
    "### Question 1: [Macro] Average growth of GDP in 2023\n",
    "\n",
    "What is the average growth (in %) of GDP in 2023?; round to the nearest tenth digit."
   ]
  },
  {
   "cell_type": "code",
   "execution_count": 2,
   "metadata": {},
   "outputs": [
    {
     "data": {
      "text/plain": [
       "2.5"
      ]
     },
     "execution_count": 2,
     "metadata": {},
     "output_type": "execute_result"
    }
   ],
   "source": [
    "# https://fred.stlouisfed.org/series/GDPC1\n",
    "gdp_df = pdr.DataReader(\"GDPC1\", \"fred\")\n",
    "\n",
    "# YoY growth rate\n",
    "gdp_df[\"GDP_GROWTH_YOY\"] = gdp_df[\"GDPC1\"] / gdp_df[\"GDPC1\"].shift(4) - 1\n",
    "gdp_df[\"GDP_GROWTH_YOY\"] = gdp_df[\"GDP_GROWTH_YOY\"] * 100\n",
    "\n",
    "# In 2023, on average YoY growth rate for GDP\n",
    "gdp_df[(gdp_df.index >= \"2023-01-01\") & (gdp_df.index <= \"2023-10-01\")][\"GDP_GROWTH_YOY\"].mean().round(1)"
   ]
  },
  {
   "cell_type": "markdown",
   "metadata": {},
   "source": [
    "### Question 2: [Macro] Inverse \"Treasury Yield\"\n",
    "\n",
    "Find the min value of the difference between *DGS10* and *DGS2* after since year 2000 (2000-01-01); round to the nearest tenth digit."
   ]
  },
  {
   "cell_type": "code",
   "execution_count": 3,
   "metadata": {},
   "outputs": [
    {
     "data": {
      "text/html": [
       "<div>\n",
       "<style scoped>\n",
       "    .dataframe tbody tr th:only-of-type {\n",
       "        vertical-align: middle;\n",
       "    }\n",
       "\n",
       "    .dataframe tbody tr th {\n",
       "        vertical-align: top;\n",
       "    }\n",
       "\n",
       "    .dataframe thead th {\n",
       "        text-align: right;\n",
       "    }\n",
       "</style>\n",
       "<table border=\"1\" class=\"dataframe\">\n",
       "  <thead>\n",
       "    <tr style=\"text-align: right;\">\n",
       "      <th></th>\n",
       "      <th>DGS10</th>\n",
       "      <th>DGS2</th>\n",
       "      <th>DIFF_DGS10_DGS2</th>\n",
       "    </tr>\n",
       "    <tr>\n",
       "      <th>DATE</th>\n",
       "      <th></th>\n",
       "      <th></th>\n",
       "      <th></th>\n",
       "    </tr>\n",
       "  </thead>\n",
       "  <tbody>\n",
       "    <tr>\n",
       "      <th>2023-07-03</th>\n",
       "      <td>3.86</td>\n",
       "      <td>4.94</td>\n",
       "      <td>-1.08</td>\n",
       "    </tr>\n",
       "  </tbody>\n",
       "</table>\n",
       "</div>"
      ],
      "text/plain": [
       "            DGS10  DGS2  DIFF_DGS10_DGS2\n",
       "DATE                                    \n",
       "2023-07-03   3.86  4.94            -1.08"
      ]
     },
     "execution_count": 3,
     "metadata": {},
     "output_type": "execute_result"
    }
   ],
   "source": [
    "# https://fred.stlouisfed.org/series/DGS2\n",
    "# https://fred.stlouisfed.org/series/DGS10\n",
    "start = date(year=2000, month=1, day=1)\n",
    "dgs2_df = pdr.DataReader(\"DGS2\", \"fred\", start=start)\n",
    "dgs10_df = pdr.DataReader(\"DGS10\", \"fred\", start=start)\n",
    "\n",
    "# Difference between DGS10 and DGS2 \n",
    "inverse_yield_df = dgs10_df.join(dgs2_df)\n",
    "inverse_yield_df[\"DIFF_DGS10_DGS2\"] = inverse_yield_df[\"DGS10\"] - inverse_yield_df[\"DGS2\"]\n",
    "\n",
    "# The lowest point of 10-year and 2-year yields\n",
    "inverse_yield_df[inverse_yield_df[\"DIFF_DGS10_DGS2\"] == inverse_yield_df[\"DIFF_DGS10_DGS2\"].min()]"
   ]
  },
  {
   "cell_type": "markdown",
   "metadata": {},
   "source": [
    "**Inverted yield curve** happens when long-term treasury yield is lower than short-term treasury yield. This is an unusal event as normally the yield for the longer maturity asset should have more interest rate. \n",
    "\n",
    "The counter-intuitive situation often signifies the economic slowdown because it shows that investors are willing to accept lower yield in long-term bond (Higher risk in terms of time of investment)rather a higher yield in short-term bond (Lower risk in terms of time of investment)."
   ]
  },
  {
   "cell_type": "markdown",
   "metadata": {},
   "source": [
    "### Question 3: [Index] Which Index is better recently?\n",
    "\n",
    "Compare S&P 500 and IPC Mexico indexes by the 5 year growth and find which one has the highest growth by how much?"
   ]
  },
  {
   "cell_type": "code",
   "execution_count": 20,
   "metadata": {},
   "outputs": [
    {
     "name": "stderr",
     "output_type": "stream",
     "text": [
      "[*********************100%%**********************]  1 of 1 completed\n",
      "[*********************100%%**********************]  1 of 1 completed"
     ]
    },
    {
     "name": "stdout",
     "output_type": "stream",
     "text": [
      "5Y growth on S&P500: 81.01279426847174\n",
      "5Y growth on IPC Mexico: 27.50624912566744\n"
     ]
    },
    {
     "name": "stderr",
     "output_type": "stream",
     "text": [
      "\n"
     ]
    }
   ],
   "source": [
    "spx_df = yf.download(\"^GSPC\", start=\"2019-04-09\", end=\"2024-04-10\")\n",
    "ipc_df = yf.download(\"^MXX\", start=\"2019-04-09\", end=\"2024-04-10\")\n",
    "\n",
    "# 5Y growth\n",
    "spx_5y_growth = (spx_df[\"Adj Close\"].iloc[-1] - spx_df[\"Adj Close\"].iloc[0]) / spx_df[\"Adj Close\"].iloc[0] * 100\n",
    "ipc_5y_growth = (ipc_df[\"Adj Close\"].iloc[-1] - ipc_df[\"Adj Close\"].iloc[0]) / ipc_df[\"Adj Close\"].iloc[0] * 100\n",
    "\n",
    "print(f\"5Y growth on S&P500: {spx_5y_growth}\")\n",
    "print(f\"5Y growth on IPC Mexico: {ipc_5y_growth}\")"
   ]
  },
  {
   "cell_type": "code",
   "execution_count": 28,
   "metadata": {},
   "outputs": [
    {
     "name": "stderr",
     "output_type": "stream",
     "text": [
      "[*********************100%%**********************]  1 of 1 completed\n"
     ]
    },
    {
     "data": {
      "text/plain": [
       "1.3813089210377276"
      ]
     },
     "execution_count": 28,
     "metadata": {},
     "output_type": "execute_result"
    }
   ],
   "source": [
    "# 10Y growth on SET\n",
    "set_df = yf.download(\"^SET.BK\", start=\"2014-04-09\", end=\"2024-04-10\")\n",
    "\n",
    "(set_df[\"Adj Close\"].iloc[-1] - set_df[\"Adj Close\"].iloc[0]) / set_df[\"Adj Close\"].iloc[0] * 100"
   ]
  },
  {
   "cell_type": "code",
   "execution_count": 47,
   "metadata": {},
   "outputs": [
    {
     "name": "stdout",
     "output_type": "stream",
     "text": [
      "Annualized 5Y-CAGR on S&P500: 12.595412447719557\n",
      "Annualized 10Y-CAGR on SET: 0.1372609196827801\n"
     ]
    }
   ],
   "source": [
    "# CAGR - Compound Annual Growth Rate; accounting for compounding investment over long period of time\n",
    "n = (spx_df.index[-1] - spx_df.index[0]).days / 365.25\n",
    "spx_cagr = ((spx_df[\"Adj Close\"].iloc[-1] / spx_df[\"Adj Close\"].iloc[0]) ** (1/n) - 1) * 100\n",
    "\n",
    "n = (set_df.index[-1] - set_df.index[0]).days / 365.25\n",
    "set_cagr = ((set_df[\"Adj Close\"].iloc[-1] / set_df[\"Adj Close\"].iloc[0]) ** (1/n) - 1) * 100\n",
    "\n",
    "print(f\"Annualized 5Y-CAGR on S&P500: {spx_cagr}\")\n",
    "print(f\"Annualized 10Y-CAGR on SET: {set_cagr}\")"
   ]
  },
  {
   "cell_type": "markdown",
   "metadata": {},
   "source": [
    "### Question 4: [Stocks OHLCV] 52-week range ratio (2023) for the selected stocks?\n",
    "\n",
    "Find the largest range/spread ratio [=(max-min)/max] of Adj.Close prices in 2023"
   ]
  },
  {
   "cell_type": "code",
   "execution_count": 52,
   "metadata": {},
   "outputs": [
    {
     "name": "stderr",
     "output_type": "stream",
     "text": [
      "[*********************100%%**********************]  6 of 6 completed\n"
     ]
    }
   ],
   "source": [
    "# Stock screener: top 6 earning stocks\n",
    "# https://companiesmarketcap.com/most-profitable-companies/\n",
    "\n",
    "tickers = [\"2222.SR\", \"BRK-B\", \"AAPL\", \"MSFT\", \"GOOG\", \"JPM\"]\n",
    "stock_df = yf.download(tickers, start=\"2023-01-01\", end=\"2024-01-01\")[\"Adj Close\"]"
   ]
  },
  {
   "cell_type": "code",
   "execution_count": 67,
   "metadata": {},
   "outputs": [
    {
     "name": "stdout",
     "output_type": "stream",
     "text": [
      "2222.SR: 0.21\n",
      "BRK-B: 0.21\n",
      "AAPL: 0.37\n",
      "MSFT: 0.42\n",
      "GOOG: 0.39\n",
      "JPM: 0.28\n"
     ]
    }
   ],
   "source": [
    "for ticker in tickers:\n",
    "    range_ratio = (stock_df[stock_df.index == stock_df[ticker].idxmax()][ticker].values[0] - stock_df[stock_df.index == stock_df[ticker].idxmin()][ticker].values[0]) / stock_df[stock_df.index == stock_df[ticker].idxmax()][ticker].values[0]\n",
    "    print(f\"{ticker}: {range_ratio:.2f}\")"
   ]
  },
  {
   "cell_type": "markdown",
   "metadata": {},
   "source": [
    "The largest range ratio indicates the high market volaitlity which is the opportunity for traders to make a profit."
   ]
  },
  {
   "cell_type": "markdown",
   "metadata": {},
   "source": [
    "### Question 5: [Stocks] Dividend Yield\n",
    "\n",
    "Find the largest dividend yield for the same set of stocks"
   ]
  },
  {
   "cell_type": "code",
   "execution_count": 103,
   "metadata": {},
   "outputs": [
    {
     "name": "stdout",
     "output_type": "stream",
     "text": [
      "2222.SR: 2.7743470474138237\n",
      "BRK-B: 0.0\n",
      "AAPL: 0.4940592304162832\n",
      "MSFT: 0.7433143940964608\n",
      "GOOG: 0.0\n",
      "JPM: 2.4096079718909573\n"
     ]
    }
   ],
   "source": [
    "for ticker in tickers:\n",
    "    dividends = yf.Ticker(ticker).dividends\n",
    "    dividend_yield = dividends[(dividends.index >= \"2023-01-01\") & (dividends.index <= \"2023-12-31\")].sum() / stock_df[ticker].dropna().iloc[-1] * 100\n",
    "\n",
    "    print(f\"{ticker}: {dividend_yield}\")"
   ]
  },
  {
   "cell_type": "markdown",
   "metadata": {},
   "source": [
    "### Question 6: [Exploratory] Investigate new metrics\n",
    "\n",
    "Download and explore a few additional metrics or time series that might be valuable for your project and write down why (briefly)"
   ]
  },
  {
   "cell_type": "markdown",
   "metadata": {},
   "source": [
    "Ans: As the tourist industry has a huge effect on Thailand's GDP, the growth of the number of tourist coming into the country seems to be a very interesting indicator for Thai stocks."
   ]
  },
  {
   "cell_type": "markdown",
   "metadata": {},
   "source": [
    "### Question 7: [Exploratory] Time-driven strategy description around earnings releases\n",
    "\n",
    "Describe an analytical strategy/idea (you're not required to implement it) to select a subset companies of interest based on the future events data."
   ]
  },
  {
   "cell_type": "markdown",
   "metadata": {},
   "source": [
    "Ans: Using historical data on earning release dates, we can analyze and screen stocks that shows consistent patterns around their earnings releases. If a stock usually has an uptrend after its earning release, traders can use the momentum along with other technical indicators to find the best position to invest in."
   ]
  }
 ],
 "metadata": {
  "kernelspec": {
   "display_name": "stock-market-analytics-zoomcamp",
   "language": "python",
   "name": "python3"
  },
  "language_info": {
   "codemirror_mode": {
    "name": "ipython",
    "version": 3
   },
   "file_extension": ".py",
   "mimetype": "text/x-python",
   "name": "python",
   "nbconvert_exporter": "python",
   "pygments_lexer": "ipython3",
   "version": "3.10.14"
  }
 },
 "nbformat": 4,
 "nbformat_minor": 2
}
